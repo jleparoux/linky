{
 "cells": [
  {
   "cell_type": "code",
   "execution_count": null,
   "id": "4f9d2bcb-d972-4522-928d-1708af209c1a",
   "metadata": {},
   "outputs": [],
   "source": [
    "import sys\n",
    "import pandas as pd\n",
    "import matplotlib.pyplot as plt\n",
    "sys.path.append('..')\n",
    "\n",
    "from src.config import Configuration\n",
    "\n",
    "%reload_ext autoreload\n",
    "%autoreload 2"
   ]
  },
  {
   "cell_type": "markdown",
   "id": "ab2b563d",
   "metadata": {},
   "source": [
    "# Get access token from Configuration"
   ]
  },
  {
   "cell_type": "code",
   "execution_count": null,
   "id": "2d747da2",
   "metadata": {},
   "outputs": [],
   "source": [
    "params = Configuration()\n",
    "api_tokens = params.settings.get(\"api_enedis\")\n",
    "print(api_tokens)"
   ]
  },
  {
   "cell_type": "markdown",
   "id": "f74a93cd-02bf-4a5f-a24d-f965244af86d",
   "metadata": {},
   "source": [
    "# Load Raw data and tranform into TimeSeries data (DataFrame)"
   ]
  },
  {
   "cell_type": "code",
   "execution_count": null,
   "id": "1314ad63",
   "metadata": {},
   "outputs": [],
   "source": [
    "raw_data = {}"
   ]
  },
  {
   "cell_type": "markdown",
   "id": "fdf10e41",
   "metadata": {},
   "source": [
    "## Daily consumption"
   ]
  },
  {
   "cell_type": "code",
   "execution_count": null,
   "id": "03f71518",
   "metadata": {},
   "outputs": [],
   "source": [
    "from src.api import get_my_data_from_enedis_api\n",
    "\n",
    "raw_data_daily = get_my_data_from_enedis_api(api_tokens,\n",
    "                                             endpoint=\"daily_consumption\", #\"consumption_load_curve\",\n",
    "                                             start=\"2019-01-02\")\n",
    "raw_data[\"daily_consumption\"] = raw_data_daily"
   ]
  },
  {
   "cell_type": "code",
   "execution_count": null,
   "id": "f7372aaf",
   "metadata": {},
   "outputs": [],
   "source": [
    "raw_data['daily_consumption']"
   ]
  },
  {
   "cell_type": "code",
   "execution_count": null,
   "id": "b1460dec",
   "metadata": {},
   "outputs": [],
   "source": [
    "from src.data import transform_raw_data_into_ts_data\n",
    "\n",
    "ts_data_daily = transform_raw_data_into_ts_data(raw_data['daily_consumption'], data_type=\"daily\")\n",
    "ts_data_daily"
   ]
  },
  {
   "cell_type": "code",
   "execution_count": null,
   "id": "2f14c949",
   "metadata": {},
   "outputs": [],
   "source": [
    "ts_data_daily[\"consumption\"].plot()"
   ]
  },
  {
   "cell_type": "code",
   "execution_count": null,
   "id": "25792452",
   "metadata": {},
   "outputs": [],
   "source": [
    "ts_data_daily.groupby([\"year\",\"month\"]).sum()[\"consumption\"].plot.bar()"
   ]
  },
  {
   "cell_type": "markdown",
   "id": "919d9ce0-b2cf-41a6-add2-59ccd6929e7f",
   "metadata": {},
   "source": [
    "## Consumption load curve"
   ]
  },
  {
   "cell_type": "code",
   "execution_count": null,
   "id": "b3c4bdfc",
   "metadata": {},
   "outputs": [],
   "source": [
    "from src.api import get_my_data_from_enedis_api\n",
    "\n",
    "raw_data_load_curve = get_my_data_from_enedis_api(api_tokens,\n",
    "                                                  endpoint=\"consumption_load_curve\",\n",
    "                                                  start=\"2019-01-02\")\n",
    "raw_data[\"consumption_load_curve\"] = raw_data_load_curve"
   ]
  },
  {
   "cell_type": "code",
   "execution_count": null,
   "id": "a913151c",
   "metadata": {},
   "outputs": [],
   "source": [
    "from src.data import transform_raw_data_into_ts_data\n",
    "\n",
    "ts_data_hourly = transform_raw_data_into_ts_data(response_load_curve['consumption_load_curve'], data_type=\"hourly\")\n",
    "ts_data_hourly"
   ]
  },
  {
   "cell_type": "code",
   "execution_count": null,
   "id": "1cd8464c",
   "metadata": {},
   "outputs": [],
   "source": [
    "ts_data_hourly[\"consumption\"].plot()"
   ]
  }
 ],
 "metadata": {
  "kernelspec": {
   "display_name": "Python 3 (ipykernel)",
   "language": "python",
   "name": "python3"
  },
  "language_info": {
   "codemirror_mode": {
    "name": "ipython",
    "version": 3
   },
   "file_extension": ".py",
   "mimetype": "text/x-python",
   "name": "python",
   "nbconvert_exporter": "python",
   "pygments_lexer": "ipython3",
   "version": "3.10.7"
  }
 },
 "nbformat": 4,
 "nbformat_minor": 5
}
